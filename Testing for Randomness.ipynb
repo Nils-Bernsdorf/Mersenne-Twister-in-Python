{
 "cells": [
  {
   "cell_type": "markdown",
   "metadata": {},
   "source": [
    "# Testing for Randomness"
   ]
  },
  {
   "cell_type": "code",
   "execution_count": 1,
   "metadata": {},
   "outputs": [],
   "source": [
    "from RandomClass import Random\n",
    "import matplotlib.pyplot as plt   \n",
    "from collections import Counter\n",
    "import random\n",
    "%matplotlib inline\n"
   ]
  },
  {
   "cell_type": "code",
   "execution_count": 2,
   "metadata": {},
   "outputs": [],
   "source": [
    "test = Random(5489) #initial "
   ]
  },
  {
   "cell_type": "markdown",
   "metadata": {},
   "source": [
    "## The Spectral Test\n",
    "generate int in range [0,100]. "
   ]
  },
  {
   "cell_type": "code",
   "execution_count": 6,
   "metadata": {},
   "outputs": [
    {
     "data": {
      "image/png": "[encoded data removed]",
      "text/plain": [
       "<matplotlib.figure.Figure at 0x23004f8ca58>"
      ]
     },
     "metadata": {},
     "output_type": "display_data"
    }
   ],
   "source": [
    "num_trials = 10**7\n",
    "\n",
    "s = [test.randint(0,101) for n in range(num_trials)]  \n",
    "y = [s.count(n) for n in range(101)]\n",
    "\n",
    "# your code here\n",
    "plt.bar(range(101),y, width=1.0, edgecolor='black')\n",
    "plt.title('My MT algorithm')\n",
    "plt.ylabel(\"Times of show up\")\n",
    "plt.xlabel('Outcome')\n",
    "plt.show()"
   ]
  },
  {
   "cell_type": "code",
   "execution_count": 25,
   "metadata": {},
   "outputs": [
    {
     "data": {
      "image/png": "[encoded data removed]",
      "text/plain": [
       "<matplotlib.figure.Figure at 0x24e3dafcfd0>"
      ]
     },
     "metadata": {},
     "output_type": "display_data"
    }
   ],
   "source": [
    "num_trials = 10**7\n",
    "random.seed(5489)\n",
    "s = [random.randint(0,100) for n in range(num_trials)]  \n",
    "y = [s.count(n) for n in range(101)]\n",
    "\n",
    "# your code here\n",
    "plt.bar(range(101),y, width=1.0, edgecolor='black')\n",
    "plt.title('Python buit-in Random')\n",
    "plt.ylabel(\"Times of show up\")\n",
    "plt.xlabel('Outcome')\n",
    "plt.show()\n",
    "\n",
    "#print(s.count(99))"
   ]
  },
  {
   "cell_type": "markdown",
   "metadata": {},
   "source": [
    "###  Permutation Test\n",
    "Compare relative ordering for every pair of random number.\n",
    "\n",
    "The first value in the outcome shows times of number 1 > number 2.\n",
    "\n",
    "The second value in the outcome shows times of number 2 >= number 1."
   ]
  },
  {
   "cell_type": "code",
   "execution_count": 8,
   "metadata": {},
   "outputs": [
    {
     "name": "stdout",
     "output_type": "stream",
     "text": [
      "This is my MT algorithm\n",
      "[5000056, 4999944]\n"
     ]
    }
   ],
   "source": [
    "def randomness_my_test(N):\n",
    "    x = [0] * 2\n",
    "    \n",
    "    while N>0:\n",
    "        if test.random() < test.random():\n",
    "            x[0] += 1\n",
    "        else:\n",
    "            x[1] += 1\n",
    "        N -= 1\n",
    "    \n",
    "    print(x)\n",
    "    return \n",
    "\n",
    "print('This is my MT algorithm')\n",
    "randomness_my_test(10**7)  "
   ]
  },
  {
   "cell_type": "code",
   "execution_count": 33,
   "metadata": {},
   "outputs": [
    {
     "name": "stdout",
     "output_type": "stream",
     "text": [
      "This is Python built-in random library\n",
      "[5001512, 4998488]\n"
     ]
    }
   ],
   "source": [
    "def randomness_test(N):\n",
    "    x = [0] * 2\n",
    "    \n",
    "    while N>0:\n",
    "        if random.random() < random.random():\n",
    "            x[0] += 1\n",
    "        else:\n",
    "            x[1] += 1\n",
    "        N -= 1\n",
    "    \n",
    "    print(x)\n",
    "    return \n",
    "\n",
    "print('This is Python built-in random library')\n",
    "randomness_test(10**7)  "
   ]
  },
  {
   "cell_type": "markdown",
   "metadata": {},
   "source": [
    "### Pixel Testing\n",
    "Put black pixels randomly in a 500X500 white png."
   ]
  },
  {
   "cell_type": "markdown",
   "metadata": {},
   "source": [
    "50000 times\n",
    "\n",
    "![50000](img/50000.png)\n",
    "\n",
    "300000 times\n",
    "\n",
    "![300000](img/300000.png)\n",
    "\n",
    "500000 times\n",
    "\n",
    "![500000](img/500000.png)\n",
    "\n",
    "700000 times\n",
    "\n",
    "![700000](img/700000.png)\n",
    "\n",
    "5000000 times\n",
    "\n",
    "![over_number](img/over_number.png)"
   ]
  }
 ],
 "metadata": {
  "kernelspec": {
   "display_name": "Python 3",
   "language": "python",
   "name": "python3"
  },
  "language_info": {
   "codemirror_mode": {
    "name": "ipython",
    "version": 3
   },
   "file_extension": ".py",
   "mimetype": "text/x-python",
   "name": "python",
   "nbconvert_exporter": "python",
   "pygments_lexer": "ipython3",
   "version": "3.6.4"
  }
 },
 "nbformat": 4,
 "nbformat_minor": 2
}
